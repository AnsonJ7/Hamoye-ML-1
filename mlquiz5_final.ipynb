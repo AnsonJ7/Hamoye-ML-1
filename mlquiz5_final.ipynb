{
  "nbformat": 4,
  "nbformat_minor": 0,
  "metadata": {
    "colab": {
      "name": "Stage_E(Practical_Time_Series_Analysis).ipynb",
      "provenance": [],
      "collapsed_sections": []
    },
    "kernelspec": {
      "name": "python3",
      "display_name": "Python 3"
    }
  },
  "cells": [
    {
      "cell_type": "code",
      "metadata": {
        "id": "DwO4MovUN77A"
      },
      "source": [
        "# import necessary libraries\n",
        "import numpy as np\n",
        "import pandas as pd \n",
        "import seaborn as sns\n",
        "import matplotlib.pyplot as plt\n",
        "%matplotlib inline"
      ],
      "execution_count": 5,
      "outputs": []
    },
    {
      "cell_type": "code",
      "metadata": {
        "id": "vUfr_hVSR-IG",
        "collapsed": true
      },
      "source": [
        "power = pd.read_csv(\"https://archive.ics.uci.edu/ml/machine-learning-databases/00235/household_power_consumption.zip\", sep = ';', header=0, low_memory=False,na_values = '?', parse_dates={\"Datetime\":['Date','Time']},index_col=[\"Datetime\"])\n",
        "power_data = power.copy()\n",
        "power_data.head()"
      ],
      "execution_count": null,
      "outputs": []
    },
    {
      "cell_type": "code",
      "metadata": {
        "id": "6NgMrsi4GuMx"
      },
      "source": [
        "power_data.replace({'?': np.nan},inplace=True)\n",
        "power_data.isnull().sum()"
      ],
      "execution_count": null,
      "outputs": []
    },
    {
      "cell_type": "code",
      "metadata": {
        "id": "YlywfIMQsi0Q"
      },
      "source": [
        "for column in power_data.select_dtypes(include=['object']).columns:\n",
        "  if column != 'Time':\n",
        "    power_data[[column]] = power_data[[column]].astype('float')\n",
        "\n",
        "power_data.info()"
      ],
      "execution_count": null,
      "outputs": []
    },
    {
      "cell_type": "code",
      "metadata": {
        "id": "gnYNPYhrntnS"
      },
      "source": [
        "power_data = power_data.fillna(power_data.mean())\n",
        "power_data.isnull().sum()"
      ],
      "execution_count": null,
      "outputs": []
    },
    {
      "cell_type": "code",
      "metadata": {
        "id": "VVIGVcWQDA8J"
      },
      "source": [
        "power_daily = power_data.resample('D').sum()\n",
        "power_daily.info()"
      ],
      "execution_count": null,
      "outputs": []
    },
    {
      "cell_type": "code",
      "metadata": {
        "id": "qCGZYwkfzErl"
      },
      "source": [
        "plt.figure(figsize=(10,7))\n",
        "plt.plot(power_daily.index, power_daily.Global_active_power, '--')\n",
        "plt.grid()\n",
        "plt.xlabel('Day')\n",
        "plt.ylabel('G_A_P')"
      ],
      "execution_count": null,
      "outputs": []
    },
    {
      "cell_type": "code",
      "metadata": {
        "id": "oTuDQhgpDA0i"
      },
      "source": [
        "print(round(power_daily['Global_active_power'].corr(power_daily['Global_reactive_power']), 2))"
      ],
      "execution_count": null,
      "outputs": []
    },
    {
      "cell_type": "code",
      "metadata": {
        "id": "K55TYdT1q6u_"
      },
      "source": [
        "print(round(power_daily['Global_intensity'].corr(power_daily['Voltage']), 2))"
      ],
      "execution_count": null,
      "outputs": []
    },
    {
      "cell_type": "code",
      "metadata": {
        "id": "_20drYxva2iq"
      },
      "source": [
        "power_daily = power_daily.reset_index()\n",
        "power_daily.head()"
      ],
      "execution_count": null,
      "outputs": []
    },
    {
      "cell_type": "code",
      "metadata": {
        "id": "Pml492w2DAwS"
      },
      "source": [
        "model_data = power_daily[['Datetime', 'Global_active_power']]\n",
        "model_data = model_data.rename(columns={'Datetime':'ds', 'Global_active_power':'y'})\n",
        "\n",
        "model_data.head()"
      ],
      "execution_count": null,
      "outputs": []
    },
    {
      "cell_type": "code",
      "metadata": {
        "id": "7O1i8FB4DAt3"
      },
      "source": [
        "train = model_data[:-365]\n",
        "test = model_data[-365:]\n",
        "print('train shape', train.shape)\n",
        "print('test shape', test.shape)"
      ],
      "execution_count": null,
      "outputs": []
    },
    {
      "cell_type": "code",
      "metadata": {
        "id": "wIdc8WqpDAqZ"
      },
      "source": [
        "from fbprophet import Prophet\n",
        "model = Prophet()\n",
        "model.fit(train)"
      ],
      "execution_count": null,
      "outputs": []
    },
    {
      "cell_type": "code",
      "metadata": {
        "id": "CSgWfFB1coPz"
      },
      "source": [
        "forecast = model.predict(test) \n",
        "forecast.head()"
      ],
      "execution_count": null,
      "outputs": []
    },
    {
      "cell_type": "code",
      "metadata": {
        "id": "wTjrZ2dneN98"
      },
      "source": [
        "forecast[['ds', 'yhat', 'yhat_lower', 'yhat_upper', 'trend', 'trend_lower', 'trend_upper']]"
      ],
      "execution_count": null,
      "outputs": []
    },
    {
      "cell_type": "code",
      "metadata": {
        "id": "5bQRkfUlsYsL"
      },
      "source": [
        "from sklearn.metrics import mean_squared_error\n",
        "\n",
        "rmse = np.sqrt(mean_squared_error(np.array(test['y']),np.array(forecast['yhat'])))\n",
        "mape = np.mean(np.abs(np.array(test['y']) - np.array(forecast.yhat[-365:]))/ np.array(test['y'])) *100\n",
        " \n",
        "print('mean_absolute_percentage_error', round(mape,2))\n",
        "print('root mean_squared_error', round(rmse,2))"
      ],
      "execution_count": null,
      "outputs": []
    },
    {
      "cell_type": "code",
      "metadata": {
        "id": "BViLLugrebNZ"
      },
      "source": [
        "from fbprophet.plot import plot_yearly\n",
        "plot_yearly(model)"
      ],
      "execution_count": null,
      "outputs": []
    },
    {
      "cell_type": "code",
      "metadata": {
        "id": "GjOsxRPtejTA"
      },
      "source": [
        " multi_model = power_daily.rename(columns = {'Datetime':'ds','Global_active_power':'y',\n",
        "                                           'Global_reactive_power':'add1','Voltage':'add2',\n",
        "                                           'Global_intensity':'add3','Sub_metering_1':'add4',\n",
        "                                          'Sub_metering_2':'add5','Sub_metering_3':'add6'})\n",
        "multi_model.head()"
      ],
      "execution_count": null,
      "outputs": []
    },
    {
      "cell_type": "code",
      "metadata": {
        "id": "-iyfp0SxHdcQ"
      },
      "source": [
        "train2 = multi_model[:-365]\n",
        "test2 = multi_model[-365:]\n",
        "print('train shape', train2.shape)\n",
        "print('test shape', test2.shape)"
      ],
      "execution_count": null,
      "outputs": []
    },
    {
      "cell_type": "code",
      "metadata": {
        "id": "QemPkOPEHyqU"
      },
      "source": [
        "model2 = Prophet()\n",
        "model2.add_regressor('add1')\n",
        "model2.add_regressor('add2')\n",
        "model2.add_regressor('add3')\n",
        "model2.add_regressor('add4')\n",
        "model2.add_regressor('add5')\n",
        "model2.add_regressor('add6')"
      ],
      "execution_count": null,
      "outputs": []
    },
    {
      "cell_type": "code",
      "metadata": {
        "id": "xJa3BqU0JMQa"
      },
      "source": [
        " \n",
        "model2.fit(train2)\n",
        " \n",
        "forecast2 = model2.predict(test2)"
      ],
      "execution_count": null,
      "outputs": []
    },
    {
      "cell_type": "code",
      "metadata": {
        "id": "9Y2a-qdRkjW8"
      },
      "source": [
        "forecast2"
      ],
      "execution_count": null,
      "outputs": []
    },
    {
      "cell_type": "code",
      "metadata": {
        "id": "wjFYJJViJpLq"
      },
      "source": [
        "mape2 = np.mean(np.abs(np.array(test2['y']) -np.array(forecast2['yhat']))/ np.array(test2['y'])) *100\n",
        "round(mape2,2)"
      ],
      "execution_count": null,
      "outputs": []
    },
    {
      "cell_type": "code",
      "metadata": {
        "id": "jGoQ18d8OPwd"
      },
      "source": [
        "rmse2 = np.sqrt(mean_squared_error(np.array(test2['y']),np.array(forecast2['yhat'])))\n",
        "round(rmse2,2)"
      ],
      "execution_count": null,
      "outputs": []
    },
    {
      "cell_type": "code",
      "metadata": {
        "id": "g3QIHoA8O0y4"
      },
      "source": [
        "from fbprophet.plot import plot_weekly\n",
        "plot_weekly(model2)"
      ],
      "execution_count": null,
      "outputs": []
    }
  ]
}